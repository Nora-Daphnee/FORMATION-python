{
 "cells": [
  {
   "cell_type": "code",
   "execution_count": 2,
   "id": "c8d58cbb",
   "metadata": {},
   "outputs": [
    {
     "data": {
      "text/plain": [
       "6"
      ]
     },
     "execution_count": 2,
     "metadata": {},
     "output_type": "execute_result"
    }
   ],
   "source": [
    "def multi(l):\n",
    "    res = 1\n",
    "    for element in l:\n",
    "        res = res * element\n",
    "    return res\n",
    "multi([1,2,3])"
   ]
  },
  {
   "cell_type": "code",
   "execution_count": 16,
   "id": "51e7686a",
   "metadata": {},
   "outputs": [
    {
     "data": {
      "text/plain": [
       "128"
      ]
     },
     "execution_count": 16,
     "metadata": {},
     "output_type": "execute_result"
    }
   ],
   "source": [
    "def multi(d):\n",
    "    res=2\n",
    "    for element in d:\n",
    "        res=res*element\n",
    "    return res\n",
    "multi([2,4,8])"
   ]
  },
  {
   "cell_type": "code",
   "execution_count": 19,
   "id": "905d2765",
   "metadata": {},
   "outputs": [
    {
     "name": "stdout",
     "output_type": "stream",
     "text": [
      "[(2, 1), (1, 2), (2, 3), (4, 4), (2, 5)]\n"
     ]
    }
   ],
   "source": [
    "list_ = [(2, 5), (1, 2), (4, 4), (2, 3), (2, 1)]\n",
    "pos = 1\n",
    "list_length = len(list_)\n",
    "for i in range(0, list_length):\n",
    "    for j in range(0, list_length-i-1):  \n",
    "        if (list_[j][pos] > list_[j + 1][pos]):  \n",
    "            temp = list_[j]  \n",
    "            list_[j]= list_[j + 1]  \n",
    "            list_[j + 1]= temp  \n",
    "\n",
    "print(list_)\n",
    "\n",
    "\n",
    "\n"
   ]
  },
  {
   "cell_type": "code",
   "execution_count": 41,
   "id": "03f3497b",
   "metadata": {},
   "outputs": [
    {
     "data": {
      "text/plain": [
       "{'a': 400, 'b': 400, 'c': 300, 'd': 400}"
      ]
     },
     "execution_count": 41,
     "metadata": {},
     "output_type": "execute_result"
    }
   ],
   "source": [
    "d1 = {'a': 100, 'b': 200, 'c':300}\n",
    "d2 = {'a': 300, 'b': 200, 'd':400}\n",
    "d={}\n",
    "d1K = d1.keys()\n",
    "d2K = d2.keys()\n",
    "for c in d1K:\n",
    "    if c in d2K:\n",
    "        d[c] = d1[c]+d2[c]\n",
    "    else:\n",
    "        d[c] = d1[c]\n",
    "        \n",
    "for v in d2K:\n",
    "    if v not in d1K:\n",
    "        d[v] = d2[v]\n",
    "d\n",
    "    "
   ]
  },
  {
   "cell_type": "code",
   "execution_count": 33,
   "id": "3df194f7",
   "metadata": {},
   "outputs": [
    {
     "data": {
      "text/plain": [
       "dict_keys(['a', 'b', 'c'])"
      ]
     },
     "execution_count": 33,
     "metadata": {},
     "output_type": "execute_result"
    }
   ],
   "source": [
    "d1K"
   ]
  },
  {
   "cell_type": "code",
   "execution_count": 34,
   "id": "a86f6f27",
   "metadata": {},
   "outputs": [
    {
     "name": "stdout",
     "output_type": "stream",
     "text": [
      "ok\n"
     ]
    }
   ],
   "source": [
    "if \"a\" in d1K:\n",
    "    print(\"ok\")"
   ]
  },
  {
   "cell_type": "code",
   "execution_count": 48,
   "id": "781e5e96",
   "metadata": {},
   "outputs": [
    {
     "data": {
      "text/plain": [
       "{'a': 400, 'b': 400, 'c': 300}"
      ]
     },
     "execution_count": 48,
     "metadata": {},
     "output_type": "execute_result"
    }
   ],
   "source": [
    "d1 = {'a': 100, 'b': 200, 'c':300}\n",
    "d2 = {'a': 300, 'b': 200, 'd':400}\n",
    "d={}\n",
    "d1k=d1.keys()\n",
    "d2k=d2.keys()\n",
    "for c in d1k:\n",
    "    if c in d2k:\n",
    "        d[c]=d1[c]+d2[c]\n",
    "    else:\n",
    "        d[c]=d1[c]\n",
    "for v in d2k:\n",
    "    if v not in d1K:\n",
    "        d1[v]=d2[v]\n",
    "d\n"
   ]
  },
  {
   "cell_type": "code",
   "execution_count": 54,
   "id": "a482f2a8",
   "metadata": {},
   "outputs": [
    {
     "data": {
      "text/plain": [
       "{1: 1, 2: 4, 3: 9, 4: 16, 5: 25, 6: 36, 7: 49, 8: 64}"
      ]
     },
     "execution_count": 54,
     "metadata": {},
     "output_type": "execute_result"
    }
   ],
   "source": [
    "d={}\n",
    "n=8\n",
    "for i in range (1,n+1):\n",
    "    d[i]=i*i\n",
    "d"
   ]
  },
  {
   "cell_type": "code",
   "execution_count": 59,
   "id": "d6327a90",
   "metadata": {},
   "outputs": [
    {
     "ename": "SyntaxError",
     "evalue": "invalid syntax (Temp/ipykernel_8844/1230021053.py, line 3)",
     "output_type": "error",
     "traceback": [
      "\u001b[1;36m  File \u001b[1;32m\"C:\\Users\\Lenovo\\AppData\\Local\\Temp/ipykernel_8844/1230021053.py\"\u001b[1;36m, line \u001b[1;32m3\u001b[0m\n\u001b[1;33m    list= [(lambda x: '12.20':float(x[1], '15.10'), reverse='24.5')]\u001b[0m\n\u001b[1;37m                             ^\u001b[0m\n\u001b[1;31mSyntaxError\u001b[0m\u001b[1;31m:\u001b[0m invalid syntax\n"
     ]
    }
   ],
   "source": [
    "def Sort(list): \n",
    "    return(sorted(list, key = lambda x: float(x[1]), reverse = True)) \n",
    "list= [(lambda x: '12.20':float(x[1], '15.10'), reverse='24.5')]\n",
    "\n",
    "print(Sort(list)) \n"
   ]
  },
  {
   "cell_type": "code",
   "execution_count": 61,
   "id": "61aa5400",
   "metadata": {},
   "outputs": [
    {
     "data": {
      "text/plain": [
       "[('anand', '4.256'),\n",
       " ('gaurav', '10.365'),\n",
       " ('nikhil', '14.107'),\n",
       " ('lucky', '18.265'),\n",
       " ('akash', '24.541')]"
      ]
     },
     "execution_count": 61,
     "metadata": {},
     "output_type": "execute_result"
    }
   ],
   "source": [
    "def Sort(tup): \n",
    "    \n",
    "    \n",
    "    \n",
    "    tup.sort(key = lambda x: float(x[1]), reverse = False) \n",
    "    return tup \n",
    "  \n",
    "tup = [('lucky', '18.265'), ('nikhil', '14.107'), ('akash', '24.541'),  \n",
    "    ('anand', '4.256'), ('gaurav', '10.365')] \n",
    "Sort(tup) "
   ]
  },
  {
   "cell_type": "code",
   "execution_count": null,
   "id": "47cb2d2b",
   "metadata": {},
   "outputs": [],
   "source": []
  }
 ],
 "metadata": {
  "kernelspec": {
   "display_name": "Python 3 (ipykernel)",
   "language": "python",
   "name": "python3"
  },
  "language_info": {
   "codemirror_mode": {
    "name": "ipython",
    "version": 3
   },
   "file_extension": ".py",
   "mimetype": "text/x-python",
   "name": "python",
   "nbconvert_exporter": "python",
   "pygments_lexer": "ipython3",
   "version": "3.9.7"
  }
 },
 "nbformat": 4,
 "nbformat_minor": 5
}
